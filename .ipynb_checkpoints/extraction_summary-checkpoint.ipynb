{
 "cells": [
  {
   "cell_type": "code",
   "execution_count": 2,
   "metadata": {},
   "outputs": [],
   "source": [
    "# !pip install pandas nltk numpy networkx bert-extractive-summarizer"
   ]
  },
  {
   "cell_type": "code",
   "execution_count": 23,
   "metadata": {
    "scrolled": true
   },
   "outputs": [
    {
     "name": "stderr",
     "output_type": "stream",
     "text": [
      "[nltk_data] Downloading package stopwords to /home/intern/nltk_data...\n",
      "[nltk_data]   Package stopwords is already up-to-date!\n"
     ]
    },
    {
     "data": {
      "text/plain": [
       "True"
      ]
     },
     "execution_count": 23,
     "metadata": {},
     "output_type": "execute_result"
    }
   ],
   "source": [
    "import os\n",
    "import pandas as pd\n",
    "import nltk\n",
    "from nltk.corpus import stopwords\n",
    "from nltk.cluster.util import cosine_distance\n",
    "from nltk import tokenize\n",
    "import numpy as np\n",
    "import networkx as nx\n",
    "from tqdm import tqdm\n",
    "\n",
    "from timeit import default_timer as timer\n",
    "from datetime import timedelta\n",
    "\n",
    "nltk.download(\"stopwords\")"
   ]
  },
  {
   "cell_type": "code",
   "execution_count": 15,
   "metadata": {},
   "outputs": [],
   "source": [
    "data = pd.read_csv(os.path.join(\"assets\",\"ruscraper_results.csv\"))"
   ]
  },
  {
   "cell_type": "code",
   "execution_count": 35,
   "metadata": {},
   "outputs": [
    {
     "data": {
      "text/html": [
       "<div>\n",
       "<style scoped>\n",
       "    .dataframe tbody tr th:only-of-type {\n",
       "        vertical-align: middle;\n",
       "    }\n",
       "\n",
       "    .dataframe tbody tr th {\n",
       "        vertical-align: top;\n",
       "    }\n",
       "\n",
       "    .dataframe thead th {\n",
       "        text-align: right;\n",
       "    }\n",
       "</style>\n",
       "<table border=\"1\" class=\"dataframe\">\n",
       "  <thead>\n",
       "    <tr style=\"text-align: right;\">\n",
       "      <th></th>\n",
       "      <th>Reports</th>\n",
       "      <th>TTP</th>\n",
       "      <th>Actor</th>\n",
       "    </tr>\n",
       "  </thead>\n",
       "  <tbody>\n",
       "    <tr>\n",
       "      <th>0</th>\n",
       "      <td>Mandiant Threat Intelligence assesses with mo...</td>\n",
       "      <td>['Malware Propagation and Deployment', 'Doxing...</td>\n",
       "      <td>TEMP.Isotope</td>\n",
       "    </tr>\n",
       "    <tr>\n",
       "      <th>1</th>\n",
       "      <td>The cyber espionage threat to the manufacturi...</td>\n",
       "      <td>['No ttp provided']</td>\n",
       "      <td>TEMP.Isotope</td>\n",
       "    </tr>\n",
       "    <tr>\n",
       "      <th>2</th>\n",
       "      <td>As of December 2017, FireEye iSIGHT Intellige...</td>\n",
       "      <td>['Malware Propagation and Deployment', 'Networ...</td>\n",
       "      <td>TEMP.Isotope</td>\n",
       "    </tr>\n",
       "    <tr>\n",
       "      <th>3</th>\n",
       "      <td>Possible Russia-nexus Sandworm Team targeting...</td>\n",
       "      <td>['Malware Propagation and Deployment', 'Networ...</td>\n",
       "      <td>TEMP.Isotope</td>\n",
       "    </tr>\n",
       "    <tr>\n",
       "      <th>4</th>\n",
       "      <td>Given the continued escalations in geopolitic...</td>\n",
       "      <td>['Malware Propagation and Deployment', 'Networ...</td>\n",
       "      <td>TEMP.Isotope</td>\n",
       "    </tr>\n",
       "    <tr>\n",
       "      <th>...</th>\n",
       "      <td>...</td>\n",
       "      <td>...</td>\n",
       "      <td>...</td>\n",
       "    </tr>\n",
       "    <tr>\n",
       "      <th>1149</th>\n",
       "      <td>Mandiant Threat Intelligence identified a new...</td>\n",
       "      <td>['Social Engineering', 'Malware Propagation an...</td>\n",
       "      <td>UNC1151</td>\n",
       "    </tr>\n",
       "    <tr>\n",
       "      <th>1150</th>\n",
       "      <td>In mid-2021, Mandiant Threat Intelligence unc...</td>\n",
       "      <td>['No ttp provided']</td>\n",
       "      <td>UNC1151</td>\n",
       "    </tr>\n",
       "    <tr>\n",
       "      <th>1151</th>\n",
       "      <td>In late May 2021, Mandiant Threat Intelligenc...</td>\n",
       "      <td>['Domain Registration_DNS Abuse and Manipulati...</td>\n",
       "      <td>UNC1151</td>\n",
       "    </tr>\n",
       "    <tr>\n",
       "      <th>1152</th>\n",
       "      <td>On March 19, 2022, spear-phishing emails from...</td>\n",
       "      <td>['No ttp provided']</td>\n",
       "      <td>UNC1151</td>\n",
       "    </tr>\n",
       "    <tr>\n",
       "      <th>1153</th>\n",
       "      <td>Mandiant Threat Intelligence identified addit...</td>\n",
       "      <td>['No ttp provided']</td>\n",
       "      <td>UNC1151</td>\n",
       "    </tr>\n",
       "  </tbody>\n",
       "</table>\n",
       "<p>1154 rows × 3 columns</p>\n",
       "</div>"
      ],
      "text/plain": [
       "                                                Reports  \\\n",
       "0      Mandiant Threat Intelligence assesses with mo...   \n",
       "1      The cyber espionage threat to the manufacturi...   \n",
       "2      As of December 2017, FireEye iSIGHT Intellige...   \n",
       "3      Possible Russia-nexus Sandworm Team targeting...   \n",
       "4      Given the continued escalations in geopolitic...   \n",
       "...                                                 ...   \n",
       "1149   Mandiant Threat Intelligence identified a new...   \n",
       "1150   In mid-2021, Mandiant Threat Intelligence unc...   \n",
       "1151   In late May 2021, Mandiant Threat Intelligenc...   \n",
       "1152   On March 19, 2022, spear-phishing emails from...   \n",
       "1153   Mandiant Threat Intelligence identified addit...   \n",
       "\n",
       "                                                    TTP         Actor  \n",
       "0     ['Malware Propagation and Deployment', 'Doxing...  TEMP.Isotope  \n",
       "1                                   ['No ttp provided']  TEMP.Isotope  \n",
       "2     ['Malware Propagation and Deployment', 'Networ...  TEMP.Isotope  \n",
       "3     ['Malware Propagation and Deployment', 'Networ...  TEMP.Isotope  \n",
       "4     ['Malware Propagation and Deployment', 'Networ...  TEMP.Isotope  \n",
       "...                                                 ...           ...  \n",
       "1149  ['Social Engineering', 'Malware Propagation an...       UNC1151  \n",
       "1150                                ['No ttp provided']       UNC1151  \n",
       "1151  ['Domain Registration_DNS Abuse and Manipulati...       UNC1151  \n",
       "1152                                ['No ttp provided']       UNC1151  \n",
       "1153                                ['No ttp provided']       UNC1151  \n",
       "\n",
       "[1154 rows x 3 columns]"
      ]
     },
     "execution_count": 35,
     "metadata": {},
     "output_type": "execute_result"
    }
   ],
   "source": [
    "data"
   ]
  },
  {
   "cell_type": "markdown",
   "metadata": {},
   "source": [
    "# Textrank Extractive Summary"
   ]
  },
  {
   "cell_type": "code",
   "execution_count": 44,
   "metadata": {},
   "outputs": [],
   "source": [
    "def sentence_similarity(sent1, sent2, stopwords=None):\n",
    "    if stopwords is None:\n",
    "        stopwords = []\n",
    " \n",
    "    sent1 = [w.lower() for w in sent1] #case insensitivity\n",
    "    sent2 = [w.lower() for w in sent2]\n",
    " \n",
    "    all_words = list(set(sent1 + sent2))\n",
    " \n",
    "    vector1 = [0] * len(all_words)\n",
    "    vector2 = [0] * len(all_words)\n",
    " \n",
    "    # build the vector for the first sentence\n",
    "    for w in sent1:\n",
    "        if w in stopwords:\n",
    "            continue\n",
    "        vector1[all_words.index(w)] += 1\n",
    " \n",
    "    # build the vector for the second sentence\n",
    "    for w in sent2:\n",
    "        if w in stopwords:\n",
    "            continue\n",
    "        vector2[all_words.index(w)] += 1\n",
    " \n",
    "    return 1 - cosine_distance(vector1, vector2)"
   ]
  },
  {
   "cell_type": "code",
   "execution_count": 45,
   "metadata": {},
   "outputs": [],
   "source": [
    "def build_similarity_matrix(sentences, stop_words):\n",
    "    # Create an empty similarity matrix\n",
    "    similarity_matrix = np.zeros((len(sentences), len(sentences)))\n",
    " \n",
    "    for idx1 in range(len(sentences)):\n",
    "        for idx2 in range(len(sentences)):\n",
    "            if idx1 == idx2: #ignore if both are same sentences\n",
    "                continue \n",
    "            similarity_matrix[idx1][idx2] = sentence_similarity(sentences[idx1], sentences[idx2], stop_words)\n",
    "\n",
    "    return similarity_matrix"
   ]
  },
  {
   "cell_type": "code",
   "execution_count": 46,
   "metadata": {},
   "outputs": [],
   "source": [
    "def generate_textrank_summary(text, top_n=5):\n",
    "    start = timer()\n",
    "    \n",
    "    stop_words = stopwords.words('english')\n",
    "    \n",
    "    # Step 1 - Sentence tokenization of 1 report text\n",
    "    sentences =  tokenize.sent_tokenize(text)\n",
    "\n",
    "    # Step 2 - Generate Similary Martix across sentences\n",
    "    sentence_similarity_martix = build_similarity_matrix(sentences, stop_words)\n",
    "\n",
    "    # Step 3 - Rank sentences in similarity martix\n",
    "    sentence_similarity_graph = nx.from_numpy_array(sentence_similarity_martix)\n",
    "    scores = nx.pagerank(sentence_similarity_graph)\n",
    "\n",
    "    # Step 4 - Sort the rank and pick top sentences\n",
    "    top_n_sentences = sorted([[scores[i], s] for i, s in enumerate(sentences)], reverse=True)[:top_n]    \n",
    "\n",
    "    # Step 5 - Join the list of sentences up\n",
    "    summary = \" \".join(list(map(lambda x: x[1], top_n_sentences)))\n",
    "    \n",
    "    end = timer()\n",
    "    \n",
    "    return summary, str(timedelta(seconds=end-start))"
   ]
  },
  {
   "cell_type": "code",
   "execution_count": 25,
   "metadata": {},
   "outputs": [
    {
     "name": "stderr",
     "output_type": "stream",
     "text": [
      "[nltk_data] Downloading package punkt to /home/intern/nltk_data...\n",
      "[nltk_data]   Unzipping tokenizers/punkt.zip.\n"
     ]
    },
    {
     "data": {
      "text/plain": [
       "True"
      ]
     },
     "execution_count": 25,
     "metadata": {},
     "output_type": "execute_result"
    }
   ],
   "source": [
    "import nltk\n",
    "nltk.download('punkt')"
   ]
  },
  {
   "cell_type": "code",
   "execution_count": 47,
   "metadata": {},
   "outputs": [
    {
     "name": "stderr",
     "output_type": "stream",
     "text": [
      "100%|███████████████████████████████████████| 1154/1154 [00:29<00:00, 39.25it/s]\n"
     ]
    }
   ],
   "source": [
    "tqdm.pandas()\n",
    "data[\"textrank_extractive_summary\"] = data[\"Reports\"].progress_apply(generate_textrank_summary)"
   ]
  },
  {
   "cell_type": "code",
   "execution_count": 48,
   "metadata": {},
   "outputs": [],
   "source": [
    "temp = pd.DataFrame(data[\"textrank_extractive_summary\"].values.tolist(), columns=[\"textrank_extractive_summary\", \"textrank_extractive_summary_time_taken\"])"
   ]
  },
  {
   "cell_type": "code",
   "execution_count": 49,
   "metadata": {},
   "outputs": [],
   "source": [
    "data[\"textrank_extractive_summary\"] = temp[\"textrank_extractive_summary\"]\n",
    "data[\"textrank_extractive_summary_time_taken\"] = temp[\"textrank_extractive_summary_time_taken\"]"
   ]
  },
  {
   "cell_type": "code",
   "execution_count": 50,
   "metadata": {},
   "outputs": [],
   "source": [
    "del temp"
   ]
  },
  {
   "cell_type": "code",
   "execution_count": 51,
   "metadata": {},
   "outputs": [
    {
     "data": {
      "text/html": [
       "<div>\n",
       "<style scoped>\n",
       "    .dataframe tbody tr th:only-of-type {\n",
       "        vertical-align: middle;\n",
       "    }\n",
       "\n",
       "    .dataframe tbody tr th {\n",
       "        vertical-align: top;\n",
       "    }\n",
       "\n",
       "    .dataframe thead th {\n",
       "        text-align: right;\n",
       "    }\n",
       "</style>\n",
       "<table border=\"1\" class=\"dataframe\">\n",
       "  <thead>\n",
       "    <tr style=\"text-align: right;\">\n",
       "      <th></th>\n",
       "      <th>Reports</th>\n",
       "      <th>TTP</th>\n",
       "      <th>Actor</th>\n",
       "      <th>textrank_extractive_summary</th>\n",
       "      <th>textrank_extractive_summary_time_taken</th>\n",
       "    </tr>\n",
       "  </thead>\n",
       "  <tbody>\n",
       "    <tr>\n",
       "      <th>0</th>\n",
       "      <td>Mandiant Threat Intelligence assesses with mo...</td>\n",
       "      <td>['Malware Propagation and Deployment', 'Doxing...</td>\n",
       "      <td>TEMP.Isotope</td>\n",
       "      <td>NATO and Western sanctions and responses likel...</td>\n",
       "      <td>0:00:00.017120</td>\n",
       "    </tr>\n",
       "    <tr>\n",
       "      <th>1</th>\n",
       "      <td>The cyber espionage threat to the manufacturi...</td>\n",
       "      <td>['No ttp provided']</td>\n",
       "      <td>TEMP.Isotope</td>\n",
       "      <td>Although the possibility of being targeted by ...</td>\n",
       "      <td>0:00:00.034352</td>\n",
       "    </tr>\n",
       "    <tr>\n",
       "      <th>2</th>\n",
       "      <td>As of December 2017, FireEye iSIGHT Intellige...</td>\n",
       "      <td>['Malware Propagation and Deployment', 'Networ...</td>\n",
       "      <td>TEMP.Isotope</td>\n",
       "      <td>Most of these groups have performed data theft...</td>\n",
       "      <td>0:00:00.003968</td>\n",
       "    </tr>\n",
       "    <tr>\n",
       "      <th>3</th>\n",
       "      <td>Possible Russia-nexus Sandworm Team targeting...</td>\n",
       "      <td>['Malware Propagation and Deployment', 'Networ...</td>\n",
       "      <td>TEMP.Isotope</td>\n",
       "      <td>Possible Russia-nexus Sandworm Team targeting...</td>\n",
       "      <td>0:00:00.005925</td>\n",
       "    </tr>\n",
       "    <tr>\n",
       "      <th>4</th>\n",
       "      <td>Given the continued escalations in geopolitic...</td>\n",
       "      <td>['Malware Propagation and Deployment', 'Networ...</td>\n",
       "      <td>TEMP.Isotope</td>\n",
       "      <td>This report summarizes Russia-nexus threat gro...</td>\n",
       "      <td>0:00:00.002338</td>\n",
       "    </tr>\n",
       "  </tbody>\n",
       "</table>\n",
       "</div>"
      ],
      "text/plain": [
       "                                             Reports  \\\n",
       "0   Mandiant Threat Intelligence assesses with mo...   \n",
       "1   The cyber espionage threat to the manufacturi...   \n",
       "2   As of December 2017, FireEye iSIGHT Intellige...   \n",
       "3   Possible Russia-nexus Sandworm Team targeting...   \n",
       "4   Given the continued escalations in geopolitic...   \n",
       "\n",
       "                                                 TTP         Actor  \\\n",
       "0  ['Malware Propagation and Deployment', 'Doxing...  TEMP.Isotope   \n",
       "1                                ['No ttp provided']  TEMP.Isotope   \n",
       "2  ['Malware Propagation and Deployment', 'Networ...  TEMP.Isotope   \n",
       "3  ['Malware Propagation and Deployment', 'Networ...  TEMP.Isotope   \n",
       "4  ['Malware Propagation and Deployment', 'Networ...  TEMP.Isotope   \n",
       "\n",
       "                         textrank_extractive_summary  \\\n",
       "0  NATO and Western sanctions and responses likel...   \n",
       "1  Although the possibility of being targeted by ...   \n",
       "2  Most of these groups have performed data theft...   \n",
       "3   Possible Russia-nexus Sandworm Team targeting...   \n",
       "4  This report summarizes Russia-nexus threat gro...   \n",
       "\n",
       "  textrank_extractive_summary_time_taken  \n",
       "0                         0:00:00.017120  \n",
       "1                         0:00:00.034352  \n",
       "2                         0:00:00.003968  \n",
       "3                         0:00:00.005925  \n",
       "4                         0:00:00.002338  "
      ]
     },
     "execution_count": 51,
     "metadata": {},
     "output_type": "execute_result"
    }
   ],
   "source": [
    "data.head()"
   ]
  },
  {
   "cell_type": "code",
   "execution_count": 52,
   "metadata": {},
   "outputs": [
    {
     "data": {
      "text/plain": [
       "<AxesSubplot:>"
      ]
     },
     "execution_count": 52,
     "metadata": {},
     "output_type": "execute_result"
    },
    {
     "data": {
      "image/png": "[encoded data removed]",
      "text/plain": [
       "<Figure size 432x288 with 1 Axes>"
      ]
     },
     "metadata": {
      "needs_background": "light"
     },
     "output_type": "display_data"
    }
   ],
   "source": [
    "seq_len = [data['textrank_extractive_summary'].str.len()]\n",
    "\n",
    "pd.Series(seq_len).hist(bins = 30)"
   ]
  },
  {
   "cell_type": "code",
   "execution_count": 53,
   "metadata": {},
   "outputs": [],
   "source": [
    "data.to_csv(\"csvoutput.csv\", sep='\\t', encoding='utf-8')"
   ]
  },
  {
   "cell_type": "markdown",
   "metadata": {},
   "source": [
    "# BERT Extractive Summary\n",
    "\n",
    "https://github.com/dmmiller612/bert-extractive-summarizer"
   ]
  },
  {
   "cell_type": "code",
   "execution_count": 2,
   "metadata": {
    "scrolled": true
   },
   "outputs": [
    {
     "name": "stderr",
     "output_type": "stream",
     "text": [
      "2022-07-25 10:08:11.121270: I tensorflow/stream_executor/cuda/cuda_gpu_executor.cc:975] successful NUMA node read from SysFS had negative value (-1), but there must be at least one NUMA node, so returning NUMA node zero\n",
      "2022-07-25 10:08:11.122029: W tensorflow/stream_executor/platform/default/dso_loader.cc:64] Could not load dynamic library 'libcusolver.so.11'; dlerror: libcusolver.so.11: cannot open shared object file: No such file or directory\n",
      "2022-07-25 10:08:11.122081: W tensorflow/core/common_runtime/gpu/gpu_device.cc:1850] Cannot dlopen some GPU libraries. Please make sure the missing libraries mentioned above are installed properly if you would like to use GPU. Follow the guide at https://www.tensorflow.org/install/gpu for how to download and setup the required libraries for your platform.\n",
      "Skipping registering GPU devices...\n"
     ]
    }
   ],
   "source": [
    "from summarizer import Summarizer\n",
    "from time import sleep\n",
    "from tqdm import tqdm"
   ]
  },
  {
   "cell_type": "code",
   "execution_count": 3,
   "metadata": {},
   "outputs": [
    {
     "data": {
      "application/vnd.jupyter.widget-view+json": {
       "model_id": "e79c50853b0f4c9b881bff6116d1342f",
       "version_major": 2,
       "version_minor": 0
      },
      "text/plain": [
       "Downloading:   0%|          | 0.00/571 [00:00<?, ?B/s]"
      ]
     },
     "metadata": {},
     "output_type": "display_data"
    },
    {
     "data": {
      "application/vnd.jupyter.widget-view+json": {
       "model_id": "31c37a45f38741eead472ebb23249a9f",
       "version_major": 2,
       "version_minor": 0
      },
      "text/plain": [
       "Downloading:   0%|          | 0.00/1.25G [00:00<?, ?B/s]"
      ]
     },
     "metadata": {},
     "output_type": "display_data"
    },
    {
     "name": "stderr",
     "output_type": "stream",
     "text": [
      "Some weights of the model checkpoint at bert-large-uncased were not used when initializing BertModel: ['cls.seq_relationship.bias', 'cls.predictions.bias', 'cls.predictions.transform.dense.weight', 'cls.predictions.transform.LayerNorm.bias', 'cls.predictions.transform.dense.bias', 'cls.predictions.decoder.weight', 'cls.predictions.transform.LayerNorm.weight', 'cls.seq_relationship.weight']\n",
      "- This IS expected if you are initializing BertModel from the checkpoint of a model trained on another task or with another architecture (e.g. initializing a BertForSequenceClassification model from a BertForPreTraining model).\n",
      "- This IS NOT expected if you are initializing BertModel from the checkpoint of a model that you expect to be exactly identical (initializing a BertForSequenceClassification model from a BertForSequenceClassification model).\n"
     ]
    },
    {
     "data": {
      "application/vnd.jupyter.widget-view+json": {
       "model_id": "12811b46fc814fb38ddaec8b83a838db",
       "version_major": 2,
       "version_minor": 0
      },
      "text/plain": [
       "Downloading:   0%|          | 0.00/226k [00:00<?, ?B/s]"
      ]
     },
     "metadata": {},
     "output_type": "display_data"
    },
    {
     "data": {
      "application/vnd.jupyter.widget-view+json": {
       "model_id": "bd8d8bc0091a424a9f93c195037adbd6",
       "version_major": 2,
       "version_minor": 0
      },
      "text/plain": [
       "Downloading:   0%|          | 0.00/28.0 [00:00<?, ?B/s]"
      ]
     },
     "metadata": {},
     "output_type": "display_data"
    }
   ],
   "source": [
    "body = '''\n",
    "The Chrysler Building, the famous art deco New York skyscraper, will be sold for a small fraction of its previous sales price.\n",
    "The deal, first reported by The Real Deal, was for $150 million, according to a source familiar with the deal.\n",
    "Mubadala, an Abu Dhabi investment fund, purchased 90% of the building for $800 million in 2008.\n",
    "Real estate firm Tishman Speyer had owned the other 10%.\n",
    "The buyer is RFR Holding, a New York real estate company.\n",
    "Officials with Tishman and RFR did not immediately respond to a request for comments.\n",
    "It's unclear when the deal will close.\n",
    "The building sold fairly quickly after being publicly placed on the market only two months ago.\n",
    "The sale was handled by CBRE Group.\n",
    "The incentive to sell the building at such a huge loss was due to the soaring rent the owners pay to Cooper Union, a New York college, for the land under the building.\n",
    "The rent is rising from $7.75 million last year to $32.5 million this year to $41 million in 2028.\n",
    "Meantime, rents in the building itself are not rising nearly that fast.\n",
    "While the building is an iconic landmark in the New York skyline, it is competing against newer office towers with large floor-to-ceiling windows and all the modern amenities.\n",
    "Still the building is among the best known in the city, even to people who have never been to New York.\n",
    "It is famous for its triangle-shaped, vaulted windows worked into the stylized crown, along with its distinctive eagle gargoyles near the top.\n",
    "It has been featured prominently in many films, including Men in Black 3, Spider-Man, Armageddon, Two Weeks Notice and Independence Day.\n",
    "The previous sale took place just before the 2008 financial meltdown led to a plunge in real estate prices.\n",
    "Still there have been a number of high profile skyscrapers purchased for top dollar in recent years, including the Waldorf Astoria hotel, which Chinese firm Anbang Insurance purchased in 2016 for nearly $2 billion, and the Willis Tower in Chicago, which was formerly known as Sears Tower, once the world's tallest.\n",
    "Blackstone Group (BX) bought it for $1.3 billion 2015.\n",
    "The Chrysler Building was the headquarters of the American automaker until 1953, but it was named for and owned by Chrysler chief Walter Chrysler, not the company itself.\n",
    "Walter Chrysler had set out to build the tallest building in the world, a competition at that time with another Manhattan skyscraper under construction at 40 Wall Street at the south end of Manhattan. He kept secret the plans for the spire that would grace the top of the building, building it inside the structure and out of view of the public until 40 Wall Street was complete.\n",
    "Once the competitor could rise no higher, the spire of the Chrysler building was raised into view, giving it the title.\n",
    "'''\n",
    "\n",
    "model = Summarizer()\n",
    "result = model(body, num_sentences=6)\n",
    "full = ''.join(result)"
   ]
  },
  {
   "cell_type": "code",
   "execution_count": 4,
   "metadata": {},
   "outputs": [
    {
     "data": {
      "text/plain": [
       "'The Chrysler Building, the famous art deco New York skyscraper, will be sold for a small fraction of its previous sales price. The deal, first reported by The Real Deal, was for $150 million, according to a source familiar with the deal. Real estate firm Tishman Speyer had owned the other 10%. The buyer is RFR Holding, a New York real estate company. The building sold fairly quickly after being publicly placed on the market only two months ago. He kept secret the plans for the spire that would grace the top of the building, building it inside the structure and out of view of the public until 40 Wall Street was complete.'"
      ]
     },
     "execution_count": 4,
     "metadata": {},
     "output_type": "execute_result"
    }
   ],
   "source": [
    "full"
   ]
  },
  {
   "cell_type": "code",
   "execution_count": 11,
   "metadata": {},
   "outputs": [],
   "source": [
    "def generate_bert_summary(text, num_sentences=1): \n",
    "    #63 is chosen because \"Please rate this product by taking a short four question survey\" is 63 characters.\n",
    "    #removes that line from the output\n",
    "    #can probably tune it without using such hacky method\n",
    "    start = timer()\n",
    "    \n",
    "    model = Summarizer()\n",
    "    sleep(100)\n",
    "    result = model(text, num_sentences=num_sentences)\n",
    "    summary = ''.join(result)\n",
    "    \n",
    "    end = timer()\n",
    "\n",
    "    return summary, str(timedelta(seconds=end-start))"
   ]
  },
  {
   "cell_type": "code",
   "execution_count": 4,
   "metadata": {},
   "outputs": [],
   "source": [
    "data = pd.read_csv(os.path.join(\"assets\",\"ruscraper_results.csv\"))"
   ]
  },
  {
   "cell_type": "code",
   "execution_count": 5,
   "metadata": {},
   "outputs": [
    {
     "data": {
      "text/html": [
       "<div>\n",
       "<style scoped>\n",
       "    .dataframe tbody tr th:only-of-type {\n",
       "        vertical-align: middle;\n",
       "    }\n",
       "\n",
       "    .dataframe tbody tr th {\n",
       "        vertical-align: top;\n",
       "    }\n",
       "\n",
       "    .dataframe thead th {\n",
       "        text-align: right;\n",
       "    }\n",
       "</style>\n",
       "<table border=\"1\" class=\"dataframe\">\n",
       "  <thead>\n",
       "    <tr style=\"text-align: right;\">\n",
       "      <th></th>\n",
       "      <th>Reports</th>\n",
       "      <th>TTP</th>\n",
       "      <th>Actor</th>\n",
       "    </tr>\n",
       "  </thead>\n",
       "  <tbody>\n",
       "    <tr>\n",
       "      <th>0</th>\n",
       "      <td>Mandiant Threat Intelligence assesses with mo...</td>\n",
       "      <td>['Malware Propagation and Deployment', 'Doxing...</td>\n",
       "      <td>TEMP.Isotope</td>\n",
       "    </tr>\n",
       "    <tr>\n",
       "      <th>1</th>\n",
       "      <td>The cyber espionage threat to the manufacturi...</td>\n",
       "      <td>['No ttp provided']</td>\n",
       "      <td>TEMP.Isotope</td>\n",
       "    </tr>\n",
       "    <tr>\n",
       "      <th>2</th>\n",
       "      <td>As of December 2017, FireEye iSIGHT Intellige...</td>\n",
       "      <td>['Malware Propagation and Deployment', 'Networ...</td>\n",
       "      <td>TEMP.Isotope</td>\n",
       "    </tr>\n",
       "    <tr>\n",
       "      <th>3</th>\n",
       "      <td>Possible Russia-nexus Sandworm Team targeting...</td>\n",
       "      <td>['Malware Propagation and Deployment', 'Networ...</td>\n",
       "      <td>TEMP.Isotope</td>\n",
       "    </tr>\n",
       "    <tr>\n",
       "      <th>4</th>\n",
       "      <td>Given the continued escalations in geopolitic...</td>\n",
       "      <td>['Malware Propagation and Deployment', 'Networ...</td>\n",
       "      <td>TEMP.Isotope</td>\n",
       "    </tr>\n",
       "    <tr>\n",
       "      <th>...</th>\n",
       "      <td>...</td>\n",
       "      <td>...</td>\n",
       "      <td>...</td>\n",
       "    </tr>\n",
       "    <tr>\n",
       "      <th>1149</th>\n",
       "      <td>Mandiant Threat Intelligence identified a new...</td>\n",
       "      <td>['Social Engineering', 'Malware Propagation an...</td>\n",
       "      <td>UNC1151</td>\n",
       "    </tr>\n",
       "    <tr>\n",
       "      <th>1150</th>\n",
       "      <td>In mid-2021, Mandiant Threat Intelligence unc...</td>\n",
       "      <td>['No ttp provided']</td>\n",
       "      <td>UNC1151</td>\n",
       "    </tr>\n",
       "    <tr>\n",
       "      <th>1151</th>\n",
       "      <td>In late May 2021, Mandiant Threat Intelligenc...</td>\n",
       "      <td>['Domain Registration_DNS Abuse and Manipulati...</td>\n",
       "      <td>UNC1151</td>\n",
       "    </tr>\n",
       "    <tr>\n",
       "      <th>1152</th>\n",
       "      <td>On March 19, 2022, spear-phishing emails from...</td>\n",
       "      <td>['No ttp provided']</td>\n",
       "      <td>UNC1151</td>\n",
       "    </tr>\n",
       "    <tr>\n",
       "      <th>1153</th>\n",
       "      <td>Mandiant Threat Intelligence identified addit...</td>\n",
       "      <td>['No ttp provided']</td>\n",
       "      <td>UNC1151</td>\n",
       "    </tr>\n",
       "  </tbody>\n",
       "</table>\n",
       "<p>1154 rows × 3 columns</p>\n",
       "</div>"
      ],
      "text/plain": [
       "                                                Reports  \\\n",
       "0      Mandiant Threat Intelligence assesses with mo...   \n",
       "1      The cyber espionage threat to the manufacturi...   \n",
       "2      As of December 2017, FireEye iSIGHT Intellige...   \n",
       "3      Possible Russia-nexus Sandworm Team targeting...   \n",
       "4      Given the continued escalations in geopolitic...   \n",
       "...                                                 ...   \n",
       "1149   Mandiant Threat Intelligence identified a new...   \n",
       "1150   In mid-2021, Mandiant Threat Intelligence unc...   \n",
       "1151   In late May 2021, Mandiant Threat Intelligenc...   \n",
       "1152   On March 19, 2022, spear-phishing emails from...   \n",
       "1153   Mandiant Threat Intelligence identified addit...   \n",
       "\n",
       "                                                    TTP         Actor  \n",
       "0     ['Malware Propagation and Deployment', 'Doxing...  TEMP.Isotope  \n",
       "1                                   ['No ttp provided']  TEMP.Isotope  \n",
       "2     ['Malware Propagation and Deployment', 'Networ...  TEMP.Isotope  \n",
       "3     ['Malware Propagation and Deployment', 'Networ...  TEMP.Isotope  \n",
       "4     ['Malware Propagation and Deployment', 'Networ...  TEMP.Isotope  \n",
       "...                                                 ...           ...  \n",
       "1149  ['Social Engineering', 'Malware Propagation an...       UNC1151  \n",
       "1150                                ['No ttp provided']       UNC1151  \n",
       "1151  ['Domain Registration_DNS Abuse and Manipulati...       UNC1151  \n",
       "1152                                ['No ttp provided']       UNC1151  \n",
       "1153                                ['No ttp provided']       UNC1151  \n",
       "\n",
       "[1154 rows x 3 columns]"
      ]
     },
     "execution_count": 5,
     "metadata": {},
     "output_type": "execute_result"
    }
   ],
   "source": [
    "data"
   ]
  },
  {
   "cell_type": "code",
   "execution_count": 12,
   "metadata": {},
   "outputs": [
    {
     "data": {
      "text/html": [
       "<div>\n",
       "<style scoped>\n",
       "    .dataframe tbody tr th:only-of-type {\n",
       "        vertical-align: middle;\n",
       "    }\n",
       "\n",
       "    .dataframe tbody tr th {\n",
       "        vertical-align: top;\n",
       "    }\n",
       "\n",
       "    .dataframe thead th {\n",
       "        text-align: right;\n",
       "    }\n",
       "</style>\n",
       "<table border=\"1\" class=\"dataframe\">\n",
       "  <thead>\n",
       "    <tr style=\"text-align: right;\">\n",
       "      <th></th>\n",
       "      <th>Reports</th>\n",
       "      <th>TTP</th>\n",
       "      <th>Actor</th>\n",
       "    </tr>\n",
       "  </thead>\n",
       "  <tbody>\n",
       "    <tr>\n",
       "      <th>105</th>\n",
       "      <td>Tor (formerly The Onion Router) is a network ...</td>\n",
       "      <td>['Malware Propagation and Deployment', 'Hostin...</td>\n",
       "      <td>APT29</td>\n",
       "    </tr>\n",
       "    <tr>\n",
       "      <th>106</th>\n",
       "      <td>This report was originally published on the F...</td>\n",
       "      <td>['No ttp provided']</td>\n",
       "      <td>APT29</td>\n",
       "    </tr>\n",
       "    <tr>\n",
       "      <th>107</th>\n",
       "      <td>FireEye Intelligence assesses with high confi...</td>\n",
       "      <td>['Web Application Attacks', 'Defacement', 'Har...</td>\n",
       "      <td>APT29</td>\n",
       "    </tr>\n",
       "    <tr>\n",
       "      <th>108</th>\n",
       "      <td>The cyber espionage threat to the telecommuni...</td>\n",
       "      <td>['Social Engineering', 'Malware Propagation an...</td>\n",
       "      <td>APT29</td>\n",
       "    </tr>\n",
       "  </tbody>\n",
       "</table>\n",
       "</div>"
      ],
      "text/plain": [
       "                                               Reports  \\\n",
       "105   Tor (formerly The Onion Router) is a network ...   \n",
       "106   This report was originally published on the F...   \n",
       "107   FireEye Intelligence assesses with high confi...   \n",
       "108   The cyber espionage threat to the telecommuni...   \n",
       "\n",
       "                                                   TTP  Actor  \n",
       "105  ['Malware Propagation and Deployment', 'Hostin...  APT29  \n",
       "106                                ['No ttp provided']  APT29  \n",
       "107  ['Web Application Attacks', 'Defacement', 'Har...  APT29  \n",
       "108  ['Social Engineering', 'Malware Propagation an...  APT29  "
      ]
     },
     "execution_count": 12,
     "metadata": {},
     "output_type": "execute_result"
    }
   ],
   "source": [
    "data_split = data[105:109]\n",
    "data_split"
   ]
  },
  {
   "cell_type": "code",
   "execution_count": 13,
   "metadata": {},
   "outputs": [
    {
     "name": "stderr",
     "output_type": "stream",
     "text": [
      "  0%|                                                     | 0/4 [00:00<?, ?it/s]Some weights of the model checkpoint at bert-large-uncased were not used when initializing BertModel: ['cls.predictions.transform.dense.weight', 'cls.seq_relationship.bias', 'cls.predictions.bias', 'cls.predictions.decoder.weight', 'cls.seq_relationship.weight', 'cls.predictions.transform.dense.bias', 'cls.predictions.transform.LayerNorm.weight', 'cls.predictions.transform.LayerNorm.bias']\n",
      "- This IS expected if you are initializing BertModel from the checkpoint of a model trained on another task or with another architecture (e.g. initializing a BertForSequenceClassification model from a BertForPreTraining model).\n",
      "- This IS NOT expected if you are initializing BertModel from the checkpoint of a model that you expect to be exactly identical (initializing a BertForSequenceClassification model from a BertForSequenceClassification model).\n",
      " 50%|██████████████████████▌                      | 2/4 [01:51<01:51, 55.83s/it]Some weights of the model checkpoint at bert-large-uncased were not used when initializing BertModel: ['cls.predictions.transform.dense.weight', 'cls.seq_relationship.bias', 'cls.predictions.bias', 'cls.predictions.decoder.weight', 'cls.seq_relationship.weight', 'cls.predictions.transform.dense.bias', 'cls.predictions.transform.LayerNorm.weight', 'cls.predictions.transform.LayerNorm.bias']\n",
      "- This IS expected if you are initializing BertModel from the checkpoint of a model trained on another task or with another architecture (e.g. initializing a BertForSequenceClassification model from a BertForPreTraining model).\n",
      "- This IS NOT expected if you are initializing BertModel from the checkpoint of a model that you expect to be exactly identical (initializing a BertForSequenceClassification model from a BertForSequenceClassification model).\n",
      " 75%|█████████████████████████████████▊           | 3/4 [03:42<01:18, 78.81s/it]Some weights of the model checkpoint at bert-large-uncased were not used when initializing BertModel: ['cls.predictions.transform.dense.weight', 'cls.seq_relationship.bias', 'cls.predictions.bias', 'cls.predictions.decoder.weight', 'cls.seq_relationship.weight', 'cls.predictions.transform.dense.bias', 'cls.predictions.transform.LayerNorm.weight', 'cls.predictions.transform.LayerNorm.bias']\n",
      "- This IS expected if you are initializing BertModel from the checkpoint of a model trained on another task or with another architecture (e.g. initializing a BertForSequenceClassification model from a BertForPreTraining model).\n",
      "- This IS NOT expected if you are initializing BertModel from the checkpoint of a model that you expect to be exactly identical (initializing a BertForSequenceClassification model from a BertForSequenceClassification model).\n",
      "100%|█████████████████████████████████████████████| 4/4 [05:39<00:00, 93.06s/it]Some weights of the model checkpoint at bert-large-uncased were not used when initializing BertModel: ['cls.predictions.transform.dense.weight', 'cls.seq_relationship.bias', 'cls.predictions.bias', 'cls.predictions.decoder.weight', 'cls.seq_relationship.weight', 'cls.predictions.transform.dense.bias', 'cls.predictions.transform.LayerNorm.weight', 'cls.predictions.transform.LayerNorm.bias']\n",
      "- This IS expected if you are initializing BertModel from the checkpoint of a model trained on another task or with another architecture (e.g. initializing a BertForSequenceClassification model from a BertForPreTraining model).\n",
      "- This IS NOT expected if you are initializing BertModel from the checkpoint of a model that you expect to be exactly identical (initializing a BertForSequenceClassification model from a BertForSequenceClassification model).\n",
      "100%|████████████████████████████████████████████| 4/4 [07:31<00:00, 112.87s/it]\n",
      "/tmp/ipykernel_16946/4012006303.py:2: SettingWithCopyWarning: \n",
      "A value is trying to be set on a copy of a slice from a DataFrame.\n",
      "Try using .loc[row_indexer,col_indexer] = value instead\n",
      "\n",
      "See the caveats in the documentation: https://pandas.pydata.org/pandas-docs/stable/user_guide/indexing.html#returning-a-view-versus-a-copy\n",
      "  data_split[\"Summary\"] = data_split[\"Reports\"].progress_apply(generate_bert_summary)\n"
     ]
    }
   ],
   "source": [
    "tqdm.pandas()\n",
    "data_split[\"Summary\"] = data_split[\"Reports\"].progress_apply(generate_bert_summary)"
   ]
  },
  {
   "cell_type": "code",
   "execution_count": 14,
   "metadata": {},
   "outputs": [],
   "source": [
    "data_split.to_csv(r'output2.txt', header=None, index=None, sep=' ', mode='a')"
   ]
  },
  {
   "cell_type": "code",
   "execution_count": null,
   "metadata": {
    "scrolled": true
   },
   "outputs": [],
   "source": [
    "temp = pd.DataFrame(data[\"Summary\"].values.tolist(), columns=[\"Summary\", \"Summary_time_taken\"])"
   ]
  },
  {
   "cell_type": "code",
   "execution_count": 8,
   "metadata": {},
   "outputs": [
    {
     "data": {
      "text/plain": [
       "<AxesSubplot:>"
      ]
     },
     "execution_count": 8,
     "metadata": {},
     "output_type": "execute_result"
    },
    {
     "data": {
      "image/png": "[encoded data removed]",
      "text/plain": [
       "<Figure size 432x288 with 1 Axes>"
      ]
     },
     "metadata": {
      "needs_background": "light"
     },
     "output_type": "display_data"
    }
   ],
   "source": [
    "seq_len = [data['Reports'].str.len()]\n",
    "\n",
    "pd.Series(seq_len).hist(bins = 30)"
   ]
  },
  {
   "cell_type": "code",
   "execution_count": null,
   "metadata": {},
   "outputs": [],
   "source": [
    "data[\"Summary\"] = temp[\"Summary\"]\n",
    "data[\"Summary_time_taken\"] = temp[\"Summary_time_taken\"]"
   ]
  },
  {
   "cell_type": "code",
   "execution_count": null,
   "metadata": {},
   "outputs": [],
   "source": [
    "del temp"
   ]
  },
  {
   "cell_type": "code",
   "execution_count": null,
   "metadata": {},
   "outputs": [],
   "source": [
    "data.to_csv(\"summary_of_reports_cpuonly.csv\", index=False)"
   ]
  },
  {
   "cell_type": "code",
   "execution_count": null,
   "metadata": {},
   "outputs": [],
   "source": [
    "import random\n",
    "random.randint(1, len(data))"
   ]
  },
  {
   "cell_type": "code",
   "execution_count": null,
   "metadata": {},
   "outputs": [],
   "source": [
    "data.iloc[71][\"Summary_time_taken\"]"
   ]
  },
  {
   "cell_type": "code",
   "execution_count": null,
   "metadata": {
    "scrolled": true
   },
   "outputs": [],
   "source": [
    "data[\"Summary_time_taken\"]"
   ]
  },
  {
   "cell_type": "code",
   "execution_count": null,
   "metadata": {},
   "outputs": [],
   "source": [
    "data_gpu = pd.read_csv(\"summary_of_reports.csv\")"
   ]
  },
  {
   "cell_type": "code",
   "execution_count": null,
   "metadata": {},
   "outputs": [],
   "source": [
    "data_gpu.iloc[71][\"Summary_time_taken\"]"
   ]
  },
  {
   "cell_type": "code",
   "execution_count": null,
   "metadata": {},
   "outputs": [],
   "source": [
    "import datetime\n",
    "import pytimeparse\n",
    "import unittest\n",
    "\n",
    "def reconstruct_timedelta(td_string):\n",
    "    seconds = pytimeparse.parse(td_string)\n",
    "    return datetime.timedelta(seconds=seconds).total_seconds()"
   ]
  },
  {
   "cell_type": "code",
   "execution_count": null,
   "metadata": {},
   "outputs": [],
   "source": [
    "np.mean(list(map(lambda x: reconstruct_timedelta(x), data[\"Summary_time_taken\"])))"
   ]
  },
  {
   "cell_type": "code",
   "execution_count": null,
   "metadata": {},
   "outputs": [],
   "source": [
    "np.mean(list(map(lambda x: reconstruct_timedelta(x), data_gpu[\"Summary_time_taken\"])))"
   ]
  },
  {
   "cell_type": "code",
   "execution_count": null,
   "metadata": {},
   "outputs": [],
   "source": []
  }
 ],
 "metadata": {
  "kernelspec": {
   "display_name": "Python 3 (ipykernel)",
   "language": "python",
   "name": "python3"
  },
  "language_info": {
   "codemirror_mode": {
    "name": "ipython",
    "version": 3
   },
   "file_extension": ".py",
   "mimetype": "text/x-python",
   "name": "python",
   "nbconvert_exporter": "python",
   "pygments_lexer": "ipython3",
   "version": "3.10.4"
  },
  "vscode": {
   "interpreter": {
    "hash": "e2a13074760840edbc62db084321be4a86a76666843bb4a93c0862177d48389e"
   }
  }
 },
 "nbformat": 4,
 "nbformat_minor": 4
}
