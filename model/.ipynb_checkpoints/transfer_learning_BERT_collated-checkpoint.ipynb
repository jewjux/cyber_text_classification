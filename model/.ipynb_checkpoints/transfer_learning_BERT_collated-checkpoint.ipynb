{
 "cells": [
  {
   "cell_type": "code",
   "execution_count": 21,
   "id": "fe0bab23",
   "metadata": {},
   "outputs": [
    {
     "name": "stdout",
     "output_type": "stream",
     "text": [
      "cuda\n"
     ]
    }
   ],
   "source": [
    "import numpy as np # linear algebra\n",
    "import pandas as pd # data processing, CSV file I/O (e.g. pd.read_csv)\n",
    "import json\n",
    "import os\n",
    "from sklearn.metrics import roc_curve\n",
    "from sklearn.metrics import accuracy_score\n",
    "from sklearn.metrics import f1_score\n",
    "from sklearn.model_selection import train_test_split\n",
    "import torch\n",
    "import torch.nn as nn\n",
    "from sklearn.model_selection import train_test_split\n",
    "from sklearn.metrics import classification_report\n",
    "import transformers\n",
    "from transformers import BertModel, BertTokenizer\n",
    "import warnings\n",
    "warnings.filterwarnings('ignore')\n",
    "# specify GPU\n",
    "device = torch.device(\"cuda\")\n",
    "print(device)"
   ]
  },
  {
   "cell_type": "code",
   "execution_count": 22,
   "id": "ca03d850",
   "metadata": {},
   "outputs": [
    {
     "data": {
      "text/html": [
       "<div>\n",
       "<style scoped>\n",
       "    .dataframe tbody tr th:only-of-type {\n",
       "        vertical-align: middle;\n",
       "    }\n",
       "\n",
       "    .dataframe tbody tr th {\n",
       "        vertical-align: top;\n",
       "    }\n",
       "\n",
       "    .dataframe thead th {\n",
       "        text-align: right;\n",
       "    }\n",
       "</style>\n",
       "<table border=\"1\" class=\"dataframe\">\n",
       "  <thead>\n",
       "    <tr style=\"text-align: right;\">\n",
       "      <th></th>\n",
       "      <th>Technique</th>\n",
       "      <th>Example</th>\n",
       "    </tr>\n",
       "  </thead>\n",
       "  <tbody>\n",
       "    <tr>\n",
       "      <th>0</th>\n",
       "      <td>Initial Access: T1195 Supply Chain Compromise</td>\n",
       "      <td>Mandiant Threat Intelligence assesses with mo...</td>\n",
       "    </tr>\n",
       "    <tr>\n",
       "      <th>1</th>\n",
       "      <td>Initial Access: T1078 Valid Accounts</td>\n",
       "      <td>Mandiant Threat Intelligence mapped out the t...</td>\n",
       "    </tr>\n",
       "    <tr>\n",
       "      <th>2</th>\n",
       "      <td>Initial Access: T1195 Supply Chain Compromise</td>\n",
       "      <td>Mandiant Threat Intelligence mapped out the t...</td>\n",
       "    </tr>\n",
       "    <tr>\n",
       "      <th>3</th>\n",
       "      <td>Initial Access: T1190 Exploit Public-Facing Ap...</td>\n",
       "      <td>Mandiant Threat Intelligence assesses with hi...</td>\n",
       "    </tr>\n",
       "    <tr>\n",
       "      <th>4</th>\n",
       "      <td>Initial Access: T1195 Supply Chain Compromise</td>\n",
       "      <td>MITRE's Adversarial Tactics, Techniques, and ...</td>\n",
       "    </tr>\n",
       "  </tbody>\n",
       "</table>\n",
       "</div>"
      ],
      "text/plain": [
       "                                           Technique  \\\n",
       "0      Initial Access: T1195 Supply Chain Compromise   \n",
       "1               Initial Access: T1078 Valid Accounts   \n",
       "2      Initial Access: T1195 Supply Chain Compromise   \n",
       "3  Initial Access: T1190 Exploit Public-Facing Ap...   \n",
       "4      Initial Access: T1195 Supply Chain Compromise   \n",
       "\n",
       "                                             Example  \n",
       "0   Mandiant Threat Intelligence assesses with mo...  \n",
       "1   Mandiant Threat Intelligence mapped out the t...  \n",
       "2   Mandiant Threat Intelligence mapped out the t...  \n",
       "3   Mandiant Threat Intelligence assesses with hi...  \n",
       "4   MITRE's Adversarial Tactics, Techniques, and ...  "
      ]
     },
     "execution_count": 22,
     "metadata": {},
     "output_type": "execute_result"
    }
   ],
   "source": [
    "df = pd.read_csv(r\"/home/intern/Documents/Jewel/text_classification/assets/collated.csv\")\n",
    "df.head()"
   ]
  },
  {
   "cell_type": "code",
   "execution_count": 23,
   "id": "f37dc747",
   "metadata": {},
   "outputs": [],
   "source": [
    "label_map = {\n",
    "\t'No technique found': 0,\n",
    "\t'Initial Access: T1078 Valid Accounts': 1,\n",
    "\t'Initial Access: T1091 Replication Through Removable Media': 2,\n",
    "\t'Initial Access: T1133 External Remote Services': 3,\n",
    "\t'Initial Access: T1189 Drive-by Compromise': 4,\n",
    "    'Initial Access: T1190 Exploit Public-Facing Application':5,\n",
    "    'Initial Access: T1199 Trusted Relationship':6,\n",
    "\t'Initial Access: T1566 Phishing': 7,\n",
    "    'Initial Access: T1195 Supply Chain Compromise': 8\n",
    "}"
   ]
  },
  {
   "cell_type": "code",
   "execution_count": 24,
   "id": "a84de9ee",
   "metadata": {},
   "outputs": [],
   "source": [
    "id2label = {\n",
    "\t0: 'No technique found',\n",
    "\t1: 'Initial Access: T1078 Valid Accounts',\n",
    "\t2: 'Initial Access: T1091 Replication Through Removable Media',\n",
    "\t3: 'Initial Access: T1133 External Remote Services',\n",
    "\t4: 'Initial Access: T1189 Drive-by Compromise',\n",
    "    5: 'Initial Access: T1190 Exploit Public-Facing Application',\n",
    "    6: 'Initial Access: T1199 Trusted Relationship',\n",
    "\t7: 'Initial Access: T1566 Phishing',\n",
    "    8: 'Initial Access: T1195 Supply Chain Compromise'\n",
    "}"
   ]
  },
  {
   "cell_type": "code",
   "execution_count": 25,
   "id": "9accfd8e",
   "metadata": {},
   "outputs": [
    {
     "data": {
      "text/html": [
       "<div>\n",
       "<style scoped>\n",
       "    .dataframe tbody tr th:only-of-type {\n",
       "        vertical-align: middle;\n",
       "    }\n",
       "\n",
       "    .dataframe tbody tr th {\n",
       "        vertical-align: top;\n",
       "    }\n",
       "\n",
       "    .dataframe thead th {\n",
       "        text-align: right;\n",
       "    }\n",
       "</style>\n",
       "<table border=\"1\" class=\"dataframe\">\n",
       "  <thead>\n",
       "    <tr style=\"text-align: right;\">\n",
       "      <th></th>\n",
       "      <th>Technique</th>\n",
       "      <th>Example</th>\n",
       "    </tr>\n",
       "  </thead>\n",
       "  <tbody>\n",
       "    <tr>\n",
       "      <th>0</th>\n",
       "      <td>8</td>\n",
       "      <td>Mandiant Threat Intelligence assesses with mo...</td>\n",
       "    </tr>\n",
       "    <tr>\n",
       "      <th>1</th>\n",
       "      <td>1</td>\n",
       "      <td>Mandiant Threat Intelligence mapped out the t...</td>\n",
       "    </tr>\n",
       "    <tr>\n",
       "      <th>2</th>\n",
       "      <td>8</td>\n",
       "      <td>Mandiant Threat Intelligence mapped out the t...</td>\n",
       "    </tr>\n",
       "    <tr>\n",
       "      <th>3</th>\n",
       "      <td>5</td>\n",
       "      <td>Mandiant Threat Intelligence assesses with hi...</td>\n",
       "    </tr>\n",
       "    <tr>\n",
       "      <th>4</th>\n",
       "      <td>8</td>\n",
       "      <td>MITRE's Adversarial Tactics, Techniques, and ...</td>\n",
       "    </tr>\n",
       "  </tbody>\n",
       "</table>\n",
       "</div>"
      ],
      "text/plain": [
       "   Technique                                            Example\n",
       "0          8   Mandiant Threat Intelligence assesses with mo...\n",
       "1          1   Mandiant Threat Intelligence mapped out the t...\n",
       "2          8   Mandiant Threat Intelligence mapped out the t...\n",
       "3          5   Mandiant Threat Intelligence assesses with hi...\n",
       "4          8   MITRE's Adversarial Tactics, Techniques, and ..."
      ]
     },
     "execution_count": 25,
     "metadata": {},
     "output_type": "execute_result"
    }
   ],
   "source": [
    "df['Technique'] = df.Technique.map(label_map)\n",
    "df.head()"
   ]
  },
  {
   "cell_type": "code",
   "execution_count": 26,
   "id": "85c920f2",
   "metadata": {},
   "outputs": [],
   "source": [
    "train_text, val_text, train_labels, val_labels = train_test_split(df['Example'], df['Technique'], random_state=2018, test_size=0.1, stratify=df['Technique'])"
   ]
  },
  {
   "cell_type": "code",
   "execution_count": 27,
   "id": "8559523f",
   "metadata": {},
   "outputs": [
    {
     "name": "stderr",
     "output_type": "stream",
     "text": [
      "Some weights of the model checkpoint at bert-base-uncased were not used when initializing BertModel: ['cls.seq_relationship.weight', 'cls.predictions.transform.dense.bias', 'cls.seq_relationship.bias', 'cls.predictions.bias', 'cls.predictions.decoder.weight', 'cls.predictions.transform.LayerNorm.bias', 'cls.predictions.transform.dense.weight', 'cls.predictions.transform.LayerNorm.weight']\n",
      "- This IS expected if you are initializing BertModel from the checkpoint of a model trained on another task or with another architecture (e.g. initializing a BertForSequenceClassification model from a BertForPreTraining model).\n",
      "- This IS NOT expected if you are initializing BertModel from the checkpoint of a model that you expect to be exactly identical (initializing a BertForSequenceClassification model from a BertForSequenceClassification model).\n"
     ]
    }
   ],
   "source": [
    "# Load the BERT tokenizer\n",
    "tokenizer = BertTokenizer.from_pretrained(\"bert-base-uncased\")\n",
    "bert = BertModel.from_pretrained(\"bert-base-uncased\", return_dict=False)"
   ]
  },
  {
   "cell_type": "code",
   "execution_count": 28,
   "id": "3020729e",
   "metadata": {},
   "outputs": [
    {
     "name": "stdout",
     "output_type": "stream",
     "text": [
      "40\n"
     ]
    },
    {
     "data": {
      "image/png": "[encoded data removed]",
      "text/plain": [
       "<Figure size 432x288 with 1 Axes>"
      ]
     },
     "metadata": {
      "needs_background": "light"
     },
     "output_type": "display_data"
    }
   ],
   "source": [
    "seq_len = [len(i.split()) for i in train_text]\n",
    "\n",
    "pd.Series(seq_len).hist(bins = 30)\n",
    "max_seq_len = 40\n",
    "print(max_seq_len)"
   ]
  },
  {
   "cell_type": "code",
   "execution_count": 29,
   "id": "36e6580c",
   "metadata": {},
   "outputs": [],
   "source": [
    "# tokenize and encode sequences in the training set\n",
    "if max_seq_len>512:\n",
    "    max_seq_len = 512\n",
    "tokens_train = tokenizer.batch_encode_plus(\n",
    "    train_text.tolist(),\n",
    "    max_length = max_seq_len,\n",
    "    pad_to_max_length=True,\n",
    "    truncation=True,\n",
    "    return_token_type_ids=False\n",
    ")\n",
    "\n",
    "# tokenize and encode sequences in the validation set\n",
    "tokens_val = tokenizer.batch_encode_plus(\n",
    "    val_text.tolist(),\n",
    "    max_length = max_seq_len,\n",
    "    pad_to_max_length=True,\n",
    "    truncation=True,\n",
    "    return_token_type_ids=False\n",
    ")"
   ]
  },
  {
   "cell_type": "code",
   "execution_count": 30,
   "id": "324aa7df",
   "metadata": {},
   "outputs": [
    {
     "name": "stdout",
     "output_type": "stream",
     "text": [
      "train_y: tensor([0, 4, 7, 1, 4, 7, 4, 0, 5, 7, 7, 1, 1, 0, 2, 5, 7, 7, 5, 1, 7, 4, 2, 7,\n",
      "        4, 8, 8, 1, 4, 7, 4, 5, 1, 1, 5, 7, 7, 7, 1, 7, 8, 7, 7, 1, 1, 5, 7, 5,\n",
      "        4, 1, 6, 4, 3, 6, 7, 4, 4, 0, 2, 4, 8, 4, 4, 1, 1, 5, 5, 1, 4, 4, 1, 6,\n",
      "        4, 1, 5, 7, 5, 1, 1, 1, 8, 5, 7, 4, 4, 6, 7, 1, 5, 6, 1, 7, 6, 6, 4, 5,\n",
      "        4, 1, 1, 4, 5, 5, 8, 1, 1, 7, 1, 4, 4, 4, 7, 7, 8, 1, 3, 4, 2, 7, 4, 4,\n",
      "        8, 4, 5, 5, 8, 5, 3, 5, 2, 3, 5, 7, 1, 3, 8, 5, 4, 4, 1, 5, 1, 4, 3, 8,\n",
      "        4, 4, 1, 4, 4, 4, 3, 7, 4, 4, 4, 1, 5, 6, 8, 4, 1, 4, 1, 7, 1, 7, 5, 1,\n",
      "        1, 4, 7, 5, 5, 8, 7, 5, 5, 0, 0, 1, 4, 1, 7, 1, 5, 2, 5, 5, 7, 7, 5, 7,\n",
      "        7, 8, 4, 5, 1, 5, 5, 7, 7, 4, 1, 1, 4, 5, 5, 1, 5, 3, 8, 8, 1, 0, 8, 5,\n",
      "        7, 1, 8, 8, 1, 3, 7, 4, 8, 6, 0, 1, 7, 8, 2, 4, 1, 8, 5, 0, 4, 1, 4, 8,\n",
      "        7, 7, 1, 7, 4, 4, 5, 8, 4, 8, 4, 4, 7, 8, 4, 1, 4, 5, 3, 4, 1, 1, 0, 7,\n",
      "        0, 5, 7, 1, 3, 8, 4, 4, 4, 1, 1, 7, 7, 1, 1, 7, 8, 1, 7, 2, 6, 5, 0, 4,\n",
      "        5, 6, 8, 4, 1, 4, 4, 1, 5, 5, 5, 7, 4, 4, 4, 5, 5, 8, 1, 3, 4, 4, 7, 3,\n",
      "        0, 5, 5, 1, 5, 8, 1, 5, 8, 4, 4, 5, 8, 1, 4, 8, 5, 1, 8, 8, 4, 1, 5, 4,\n",
      "        4, 5, 5, 8, 1, 5, 1, 1, 4, 1, 7, 1, 1, 7, 5, 5, 7, 6, 8, 4, 1, 8, 5, 6,\n",
      "        4, 7, 2, 4, 4, 8, 5, 5, 1, 8, 8, 1, 6, 4, 2, 8, 6, 4, 7, 4, 8, 1, 8, 4,\n",
      "        1, 7, 1, 4, 1, 1, 5, 1, 5, 5, 1, 5, 1, 5, 1, 5, 1, 8, 2, 7, 1, 8, 5, 4,\n",
      "        4, 1, 5, 5, 3, 5, 1, 4, 1, 1, 7, 1, 4, 4, 8, 4, 8, 8, 5, 1, 1, 5, 5, 4,\n",
      "        7, 7, 5, 1, 7, 4, 3, 4, 7, 7, 5, 3, 4, 7, 5, 1, 5, 5, 5, 7, 5, 4, 5, 4,\n",
      "        7, 4, 8, 7, 7, 5, 7, 1, 4, 1, 8, 7, 4, 4, 4, 4, 2, 1, 1, 8, 8, 1, 8, 1,\n",
      "        6, 3, 5, 4, 1, 5, 3, 8, 3, 5, 5, 1, 8, 4, 8, 1, 4, 3, 4, 5, 4, 5, 1, 4,\n",
      "        8, 5, 1, 4, 8, 4, 8, 5, 4, 4, 4, 5, 8, 4, 4, 5, 8, 1, 2, 7, 5, 8, 8, 1,\n",
      "        5, 6, 0, 4, 7, 7, 4, 4, 5, 1, 1, 6, 1, 8, 4, 4, 4, 5, 4, 5, 4, 5, 8, 1,\n",
      "        7, 8, 5, 5, 0, 7, 5, 8, 4, 7, 4, 1, 5, 7, 1, 2, 8, 1, 4, 5, 7, 4, 4, 4,\n",
      "        1, 4, 4, 7, 7, 5, 1, 0, 7, 8, 6, 4, 2, 4, 1, 7, 1, 7, 1, 1, 8, 5, 5, 8,\n",
      "        1, 4, 5, 8, 1, 4, 5, 6, 2, 4, 7, 4, 4, 4, 7, 1, 1, 4, 8, 7, 4, 1, 7, 4,\n",
      "        2, 7, 2, 7, 1, 1, 4, 8, 4, 1, 8, 2, 5, 6, 3, 5, 3, 4, 4, 4, 5, 7, 6, 8,\n",
      "        5, 1, 0, 8, 1, 5, 1, 5, 4, 8, 1, 7, 5])\n",
      "val_y: tensor([4, 7, 4, 1, 1, 4, 7, 1, 5, 7, 5, 4, 5, 2, 0, 1, 3, 8, 7, 7, 1, 7, 5, 4,\n",
      "        1, 2, 1, 6, 4, 4, 4, 1, 5, 4, 4, 8, 5, 5, 7, 1, 1, 8, 5, 4, 5, 8, 7, 8,\n",
      "        3, 4, 8, 0, 7, 5, 4, 4, 8, 1, 1, 5, 7, 4, 1, 6, 5, 8, 7, 8, 4, 5, 1, 4,\n",
      "        5, 1])\n"
     ]
    }
   ],
   "source": [
    "# for train set\n",
    "train_seq = torch.tensor(tokens_train['input_ids'])\n",
    "train_mask = torch.tensor(tokens_train['attention_mask'])\n",
    "train_y = torch.tensor(train_labels.tolist())\n",
    "print(\"train_y:\",train_y)\n",
    "# for validation set\n",
    "val_seq = torch.tensor(tokens_val['input_ids'])\n",
    "val_mask = torch.tensor(tokens_val['attention_mask'])\n",
    "val_y = torch.tensor(val_labels.tolist())\n",
    "print(\"val_y:\",val_y)"
   ]
  },
  {
   "cell_type": "code",
   "execution_count": 31,
   "id": "3f0c18ee",
   "metadata": {},
   "outputs": [],
   "source": [
    "from torch.utils.data import TensorDataset, DataLoader, RandomSampler, SequentialSampler\n",
    "\n",
    "#define a batch size\n",
    "batch_size = 16\n",
    "\n",
    "# wrap tensors\n",
    "train_data = TensorDataset(train_seq, train_mask, train_y)\n",
    "\n",
    "# sampler for sampling the data during training\n",
    "train_sampler = RandomSampler(train_data)\n",
    "\n",
    "# dataLoader for train set\n",
    "train_dataloader = DataLoader(train_data, sampler=train_sampler, batch_size=batch_size)\n",
    "\n",
    "# wrap tensors\n",
    "val_data = TensorDataset(val_seq, val_mask, val_y)\n",
    "\n",
    "# sampler for sampling the data during training\n",
    "val_sampler = SequentialSampler(val_data)\n",
    "\n",
    "# dataLoader for validation set\n",
    "val_dataloader = DataLoader(val_data, sampler = val_sampler, batch_size=batch_size)"
   ]
  },
  {
   "cell_type": "code",
   "execution_count": 32,
   "id": "60014e88",
   "metadata": {},
   "outputs": [],
   "source": [
    "# freeze all the parameters\n",
    "for param in bert.parameters():\n",
    "    param.requires_grad = False"
   ]
  },
  {
   "cell_type": "code",
   "execution_count": 33,
   "id": "154a1f8e",
   "metadata": {},
   "outputs": [],
   "source": [
    "class BERT_Arch(nn.Module):\n",
    "    def __init__(self, bert,label_map):\n",
    "        super(BERT_Arch, self).__init__()\n",
    "        self.bert = bert \n",
    "      \n",
    "        # dropout layer\n",
    "        self.dropout = nn.Dropout(0.1)\n",
    "\n",
    "        # relu activation function\n",
    "        self.relu =  nn.ReLU()\n",
    "\n",
    "        # dense layer 1\n",
    "        self.fc1 = nn.Linear(768,512)\n",
    "\n",
    "        # dense layer 2 (Output layer)\n",
    "        self.fc2 = nn.Linear(512,len(label_map))\n",
    "\n",
    "        #softmax activation function\n",
    "        self.softmax = nn.LogSoftmax(dim=1)\n",
    "\n",
    "        #define the forward pass\n",
    "    def forward(self, sent_id, mask):\n",
    "\n",
    "        #pass the inputs to the model  \n",
    "        _, cls_hs = self.bert(sent_id, attention_mask=mask)\n",
    "\n",
    "        x = self.fc1(cls_hs)\n",
    "\n",
    "        x = self.relu(x)\n",
    "\n",
    "        x = self.dropout(x)\n",
    "\n",
    "        # output layer\n",
    "        x = self.fc2(x)\n",
    "\n",
    "        # apply softmax activation\n",
    "        x = self.softmax(x)\n",
    "        return x"
   ]
  },
  {
   "cell_type": "code",
   "execution_count": 34,
   "id": "e38b767d",
   "metadata": {},
   "outputs": [],
   "source": [
    "# pass the pre-trained BERT to our define architecture\n",
    "model = BERT_Arch(bert,label_map)\n",
    "\n",
    "# push the model to GPU\n",
    "model = model.to(device)"
   ]
  },
  {
   "cell_type": "code",
   "execution_count": 35,
   "id": "028aa5ff",
   "metadata": {},
   "outputs": [],
   "source": [
    "# optimizer from hugging face transformers\n",
    "from transformers import AdamW\n",
    "\n",
    "# define the optimizer\n",
    "optimizer = AdamW(model.parameters(), lr = 1e-3)"
   ]
  },
  {
   "cell_type": "code",
   "execution_count": 36,
   "id": "a9244d54",
   "metadata": {},
   "outputs": [
    {
     "name": "stdout",
     "output_type": "stream",
     "text": [
      "[4.32026144 0.54403292 3.86549708 3.33838384 0.48638705 0.60697888\n",
      " 3.33838384 0.78132388 0.91805556]\n"
     ]
    }
   ],
   "source": [
    "from sklearn.utils.class_weight import compute_class_weight\n",
    "\n",
    "#compute the class weights\n",
    "class_wts = compute_class_weight(class_weight='balanced', classes=np.unique(train_labels), y=train_labels)\n",
    "\n",
    "print(class_wts)"
   ]
  },
  {
   "cell_type": "code",
   "execution_count": 37,
   "id": "e600994d",
   "metadata": {},
   "outputs": [],
   "source": [
    "# convert class weights to tensor\n",
    "weights= torch.tensor(class_wts,dtype=torch.float)\n",
    "weights = weights.to(device)\n",
    "\n",
    "# loss function\n",
    "cross_entropy  = nn.NLLLoss(weight=weights) \n",
    "\n",
    "# number of training epochs\n",
    "epochs = 2"
   ]
  },
  {
   "cell_type": "code",
   "execution_count": 38,
   "id": "82b261dc",
   "metadata": {},
   "outputs": [],
   "source": [
    "# function to train the model\n",
    "def train():\n",
    "    model.train()\n",
    "\n",
    "    total_loss, total_accuracy = 0, 0\n",
    "  \n",
    "    # empty list to save model predictions\n",
    "    total_preds=[]\n",
    "    total_labels =[]\n",
    "  \n",
    "    # iterate over batches\n",
    "    for step,batch in enumerate(train_dataloader):\n",
    "    \n",
    "        # progress update after every 50 batches.\n",
    "        if step % 100 == 0 and not step == 0:\n",
    "            print('  Batch {:>5,}  of  {:>5,}.'.format(step, len(train_dataloader)))\n",
    "\n",
    "        # push the batch to gpu\n",
    "        batch = [r.to(device) for r in batch]\n",
    "\n",
    "        sent_id, mask, labels = batch\n",
    "\n",
    "        # clear previously calculated gradients \n",
    "        model.zero_grad()        \n",
    "\n",
    "        # get model predictions for the current batch\n",
    "        preds = model(sent_id, mask)\n",
    "\n",
    "        # compute the loss between actual and predicted values\n",
    "        loss = cross_entropy(preds, labels)\n",
    "\n",
    "        # add on to the total loss\n",
    "        total_loss = total_loss + loss.item()\n",
    "\n",
    "        # backward pass to calculate the gradients\n",
    "        loss.backward()\n",
    "\n",
    "        # clip the the gradients to 1.0. It helps in preventing the exploding gradient problem\n",
    "        torch.nn.utils.clip_grad_norm_(model.parameters(), 1.0)\n",
    "\n",
    "        # update parameters\n",
    "        optimizer.step()\n",
    "\n",
    "        # model predictions are stored on GPU. So, push it to CPU\n",
    "        preds = preds.detach().cpu().numpy()\n",
    "        preds = np.argmax(preds, axis=1)\n",
    "        # append the model predictions\n",
    "        total_preds+=list(preds)\n",
    "        total_labels+=labels.tolist()\n",
    "\n",
    "    # compute the training loss of the epoch\n",
    "    avg_loss = total_loss / len(train_dataloader)\n",
    "\n",
    "    # predictions are in the form of (no. of batches, size of batch, no. of classes).\n",
    "    # reshape the predictions in form of (number of samples, no. of classes)\n",
    "    #total_preds  = np.concatenate(total_preds, axis=0)\n",
    "    f1 = f1_score(total_labels, total_preds, average='weighted')\n",
    "    #returns the loss and predictions\n",
    "    return avg_loss, f1"
   ]
  },
  {
   "cell_type": "code",
   "execution_count": 39,
   "id": "b91be074",
   "metadata": {},
   "outputs": [],
   "source": [
    "# function for evaluating the model\n",
    "def evaluate():\n",
    "  \n",
    "    print(\"\\nEvaluating...\")\n",
    "\n",
    "    # deactivate dropout layers\n",
    "    model.eval()\n",
    "\n",
    "    total_loss, total_accuracy = 0, 0\n",
    "\n",
    "    # empty list to save the model predictions\n",
    "    total_preds = []\n",
    "    total_labels = []\n",
    "    # iterate over batches\n",
    "    for step,batch in enumerate(val_dataloader):\n",
    "    \n",
    "        # Progress update every 50 batches.\n",
    "        if step % 50 == 0 and not step == 0:\n",
    "\n",
    "          # Calculate elapsed time in minutes.\n",
    "          #elapsed = format_time(time.time() - t0)\n",
    "\n",
    "          # Report progress.\n",
    "          print('  Batch {:>5,}  of  {:>5,}.'.format(step, len(val_dataloader)))\n",
    "\n",
    "        # push the batch to gpu\n",
    "        batch = [t.to(device) for t in batch]\n",
    "\n",
    "        sent_id, mask, labels = batch\n",
    "\n",
    "        # deactivate autograd\n",
    "        with torch.no_grad():\n",
    "\n",
    "            # model predictions\n",
    "            preds = model(sent_id, mask)\n",
    "\n",
    "            # compute the validation loss between actual and predicted values\n",
    "            loss = cross_entropy(preds,labels)\n",
    "\n",
    "            total_loss = total_loss + loss.item()\n",
    "\n",
    "            preds = preds.detach().cpu().numpy()\n",
    "            preds = np.argmax(preds, axis=1)\n",
    "            total_preds+=list(preds)\n",
    "            total_labels+=labels.tolist()\n",
    "    # compute the validation loss of the epoch\n",
    "    avg_loss = total_loss / len(val_dataloader) \n",
    "\n",
    "    # reshape the predictions in form of (number of samples, no. of classes)\n",
    "    #total_preds  = np.concatenate(total_preds, axis=0)\n",
    "    \n",
    "    f1 = f1_score(total_labels, total_preds, average='weighted')\n",
    "    return avg_loss, f1"
   ]
  },
  {
   "cell_type": "code",
   "execution_count": 40,
   "id": "969b11a1",
   "metadata": {},
   "outputs": [],
   "source": [
    "def save_checkpoint(filename, epoch, model, optimizer, label_map, id2label):\n",
    "    state = {\n",
    "        'epoch': epoch,\n",
    "        'model': model,\n",
    "        'optimizer': optimizer,\n",
    "        'label_map': label_map,\n",
    "        'id_map':id2label}\n",
    "    torch.save(state, filename)"
   ]
  },
  {
   "cell_type": "code",
   "execution_count": 41,
   "id": "b6987825",
   "metadata": {},
   "outputs": [
    {
     "name": "stdout",
     "output_type": "stream",
     "text": [
      "\n",
      " Epoch 1 / 2\n",
      "\n",
      "Evaluating...\n",
      "\n",
      "Training Loss: 2.207\n",
      "Validation Loss: 2.060\n",
      "\n",
      "Training F1: 0.162\n",
      "Validation F1: 0.110\n",
      "\n",
      " Epoch 2 / 2\n",
      "\n",
      "Evaluating...\n",
      "\n",
      "Training Loss: 2.064\n",
      "Validation Loss: 1.907\n",
      "\n",
      "Training F1: 0.215\n",
      "Validation F1: 0.290\n"
     ]
    }
   ],
   "source": [
    "# set initial loss to infinite\n",
    "best_valid_loss = float('inf')\n",
    "\n",
    "# empty lists to store training and validation loss of each epoch\n",
    "train_losses=[]\n",
    "valid_losses=[]\n",
    "\n",
    "#for each epoch\n",
    "for epoch in range(epochs):\n",
    "     \n",
    "    print('\\n Epoch {:} / {:}'.format(epoch + 1, epochs))\n",
    "    \n",
    "    #train model\n",
    "    train_loss, f1_train = train()\n",
    "    \n",
    "    #evaluate model\n",
    "    valid_loss, f1_valid = evaluate()\n",
    "    \n",
    "    #save the best model\n",
    "    if valid_loss < best_valid_loss:\n",
    "        best_valid_loss = valid_loss\n",
    "        file_name = 'topic_saved_weights.pt'\n",
    "        save_checkpoint(file_name, epoch, model, optimizer, label_map, id2label)\n",
    "    \n",
    "    # append training and validation loss\n",
    "    train_losses.append(train_loss)\n",
    "    valid_losses.append(valid_loss)\n",
    "    \n",
    "    print(f'\\nTraining Loss: {train_loss:.3f}')\n",
    "    print(f'Validation Loss: {valid_loss:.3f}')\n",
    "    print(f'\\nTraining F1: {f1_train:.3f}')\n",
    "    print(f'Validation F1: {f1_valid:.3f}')"
   ]
  },
  {
   "cell_type": "code",
   "execution_count": null,
   "id": "f31498dc",
   "metadata": {},
   "outputs": [],
   "source": []
  },
  {
   "cell_type": "code",
   "execution_count": null,
   "id": "674294b6",
   "metadata": {},
   "outputs": [],
   "source": []
  },
  {
   "cell_type": "code",
   "execution_count": null,
   "id": "2c0fca79",
   "metadata": {},
   "outputs": [],
   "source": []
  },
  {
   "cell_type": "code",
   "execution_count": null,
   "id": "9affb624",
   "metadata": {},
   "outputs": [],
   "source": []
  },
  {
   "cell_type": "code",
   "execution_count": null,
   "id": "65990e47",
   "metadata": {},
   "outputs": [],
   "source": []
  },
  {
   "cell_type": "code",
   "execution_count": null,
   "id": "f640dc03",
   "metadata": {},
   "outputs": [],
   "source": []
  }
 ],
 "metadata": {
  "kernelspec": {
   "display_name": "Python 3 (ipykernel)",
   "language": "python",
   "name": "python3"
  },
  "language_info": {
   "codemirror_mode": {
    "name": "ipython",
    "version": 3
   },
   "file_extension": ".py",
   "mimetype": "text/x-python",
   "name": "python",
   "nbconvert_exporter": "python",
   "pygments_lexer": "ipython3",
   "version": "3.10.4"
  }
 },
 "nbformat": 4,
 "nbformat_minor": 5
}
